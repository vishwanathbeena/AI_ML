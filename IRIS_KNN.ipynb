{
 "cells": [
  {
   "cell_type": "code",
   "execution_count": 36,
   "metadata": {},
   "outputs": [],
   "source": [
    "import pandas as pd\n",
    "import numpy as np\n",
    "import sklearn\n",
    "import seaborn as sns\n",
    "import matplotlib.pyplot as plt\n",
    "from sklearn.preprocessing import StandardScaler\n",
    "from sklearn import metrics\n",
    "from sklearn.metrics import *\n",
    "from sklearn.model_selection import *\n",
    "from sklearn.model_selection import train_test_split\n",
    "from sklearn.neighbors import KNeighborsClassifier"
   ]
  },
  {
   "cell_type": "code",
   "execution_count": 37,
   "metadata": {},
   "outputs": [
    {
     "name": "stdout",
     "output_type": "stream",
     "text": [
      "<class 'pandas.core.indexes.base.Index'>\n",
      "Index(['sepal_length', 'sepal_width', 'petal_length', 'petal_width',\n",
      "       'species'],\n",
      "      dtype='object')\n"
     ]
    },
    {
     "data": {
      "text/html": [
       "<div>\n",
       "<style scoped>\n",
       "    .dataframe tbody tr th:only-of-type {\n",
       "        vertical-align: middle;\n",
       "    }\n",
       "\n",
       "    .dataframe tbody tr th {\n",
       "        vertical-align: top;\n",
       "    }\n",
       "\n",
       "    .dataframe thead th {\n",
       "        text-align: right;\n",
       "    }\n",
       "</style>\n",
       "<table border=\"1\" class=\"dataframe\">\n",
       "  <thead>\n",
       "    <tr style=\"text-align: right;\">\n",
       "      <th></th>\n",
       "      <th>sepal_length</th>\n",
       "      <th>sepal_width</th>\n",
       "      <th>petal_length</th>\n",
       "      <th>petal_width</th>\n",
       "    </tr>\n",
       "  </thead>\n",
       "  <tbody>\n",
       "    <tr>\n",
       "      <th>0</th>\n",
       "      <td>5.1</td>\n",
       "      <td>3.5</td>\n",
       "      <td>1.4</td>\n",
       "      <td>0.2</td>\n",
       "    </tr>\n",
       "    <tr>\n",
       "      <th>1</th>\n",
       "      <td>4.9</td>\n",
       "      <td>3.0</td>\n",
       "      <td>1.4</td>\n",
       "      <td>0.2</td>\n",
       "    </tr>\n",
       "  </tbody>\n",
       "</table>\n",
       "</div>"
      ],
      "text/plain": [
       "   sepal_length  sepal_width  petal_length  petal_width\n",
       "0           5.1          3.5           1.4          0.2\n",
       "1           4.9          3.0           1.4          0.2"
      ]
     },
     "execution_count": 37,
     "metadata": {},
     "output_type": "execute_result"
    }
   ],
   "source": [
    "iris = pd.read_csv('D:\\Learning\\Applied_AI\\iris_data.csv')\n",
    "iris.shape\n",
    "col_list = iris.columns\n",
    "print(type(col_list))\n",
    "print(col_list[:])\n",
    "iris['species'].value_counts()\n",
    "iris_data = iris.iloc[:,0:4] # select all the rows and col indices 0 to 3\n",
    "iris_lables = iris.iloc[:,4:] # select all trhe rows and 4th cloumn\n",
    "iris_data.shape\n",
    "iris_data.head(2)"
   ]
  },
  {
   "cell_type": "code",
   "execution_count": 38,
   "metadata": {},
   "outputs": [
    {
     "data": {
      "text/html": [
       "<div>\n",
       "<style scoped>\n",
       "    .dataframe tbody tr th:only-of-type {\n",
       "        vertical-align: middle;\n",
       "    }\n",
       "\n",
       "    .dataframe tbody tr th {\n",
       "        vertical-align: top;\n",
       "    }\n",
       "\n",
       "    .dataframe thead th {\n",
       "        text-align: right;\n",
       "    }\n",
       "</style>\n",
       "<table border=\"1\" class=\"dataframe\">\n",
       "  <thead>\n",
       "    <tr style=\"text-align: right;\">\n",
       "      <th></th>\n",
       "      <th>species</th>\n",
       "    </tr>\n",
       "  </thead>\n",
       "  <tbody>\n",
       "    <tr>\n",
       "      <th>0</th>\n",
       "      <td>Iris-setosa</td>\n",
       "    </tr>\n",
       "    <tr>\n",
       "      <th>1</th>\n",
       "      <td>Iris-setosa</td>\n",
       "    </tr>\n",
       "  </tbody>\n",
       "</table>\n",
       "</div>"
      ],
      "text/plain": [
       "       species\n",
       "0  Iris-setosa\n",
       "1  Iris-setosa"
      ]
     },
     "execution_count": 38,
     "metadata": {},
     "output_type": "execute_result"
    }
   ],
   "source": [
    "iris_lables.shape\n",
    "iris_lables.head(2)"
   ]
  },
  {
   "cell_type": "code",
   "execution_count": 39,
   "metadata": {},
   "outputs": [
    {
     "name": "stdout",
     "output_type": "stream",
     "text": [
      "length of iris_standard is  150\n",
      "length of inner list is 4\n",
      "sample elements are\n",
      "[[-0.90068117  1.03205722 -1.3412724  -1.31297673]\n",
      " [-1.14301691 -0.1249576  -1.3412724  -1.31297673]\n",
      " [-1.38535265  0.33784833 -1.39813811 -1.31297673]]\n"
     ]
    }
   ],
   "source": [
    "#standardizing using sklearn pre-processing\n",
    "iris_standard = StandardScaler().fit_transform(iris_data)  # this has transformed dataframe to numpy N-dimensional array,\n",
    "#each row in df is a list we will have n inner lists in a outer list,thats why length of iris_standard is 150 and \n",
    "#length of each inner list is 4.\n",
    "print('length of iris_standard is ',len(iris_standard))\n",
    "print('length of inner list is',len(iris_standard[0]))\n",
    "print('sample elements are')\n",
    "print((iris_standard[0:3]))"
   ]
  },
  {
   "cell_type": "code",
   "execution_count": 40,
   "metadata": {},
   "outputs": [
    {
     "name": "stdout",
     "output_type": "stream",
     "text": [
      "[[ 0.31099753 -0.58776353  0.53529583  0.00175297]\n",
      " [-0.17367395  1.72626612 -1.17067529 -1.18150376]] ['Iris-versicolor' 'Iris-setosa']\n",
      "50 50\n",
      "100 100\n"
     ]
    }
   ],
   "source": [
    "#splitting dataset into train and test\n",
    "\n",
    "\n",
    "iris_lables_np = iris_lables.values.reshape(1,150)\n",
    "x_train, x_test, y_train, y_test = train_test_split(iris_standard, iris_lables_np[0], test_size=0.33, random_state=42)\n",
    "print(x_test[0:2],y_test[0:2])\n",
    "print(len(x_test),len(y_test))\n",
    "print(len(x_train),len(y_train))\n"
   ]
  },
  {
   "cell_type": "code",
   "execution_count": 41,
   "metadata": {},
   "outputs": [
    {
     "data": {
      "text/plain": [
       "KNeighborsClassifier(algorithm='auto', leaf_size=30, metric='minkowski',\n",
       "           metric_params=None, n_jobs=None, n_neighbors=5, p=2,\n",
       "           weights='uniform')"
      ]
     },
     "execution_count": 41,
     "metadata": {},
     "output_type": "execute_result"
    }
   ],
   "source": [
    "#Training using K_NN\n",
    "\n",
    "neigh = KNeighborsClassifier(n_neighbors=5)\n",
    "neigh.fit(x_train, y_train) "
   ]
  },
  {
   "cell_type": "code",
   "execution_count": 42,
   "metadata": {},
   "outputs": [
    {
     "name": "stdout",
     "output_type": "stream",
     "text": [
      "0.98\n",
      "actual is Iris-virginica but predicted is Iris-versicolor\n",
      "Wrong\n"
     ]
    }
   ],
   "source": [
    "#predicting\n",
    "\n",
    "predict_array = neigh.predict(x_test)\n",
    "print(metrics.accuracy_score(y_test, predict_array))\n",
    "#print(predict_array[0])\n",
    "#print(y_test[0])\n",
    "\n",
    "for i in range(len(predict_array)):\n",
    "   if (predict_array[i] != y_test[i]):\n",
    "       print('actual is {} but predicted is {}'.format(y_test[i],predict_array[i]))\n",
    "       print('Wrong')\n",
    "        "
   ]
  },
  {
   "cell_type": "code",
   "execution_count": 43,
   "metadata": {},
   "outputs": [
    {
     "name": "stdout",
     "output_type": "stream",
     "text": [
      "0.98\n"
     ]
    }
   ],
   "source": [
    "#prediction on non standardized data\n",
    "x_train, x_test, y_train, y_test = train_test_split(iris_data, iris_lables_np[0], test_size=0.33, random_state=42)\n",
    "neigh2 = KNeighborsClassifier(n_neighbors=5)\n",
    "neigh2.fit(x_train, y_train) \n",
    "predict_array = neigh2.predict(x_test)\n",
    "print(metrics.accuracy_score(y_test, predict_array))"
   ]
  },
  {
   "cell_type": "code",
   "execution_count": 48,
   "metadata": {},
   "outputs": [
    {
     "name": "stdout",
     "output_type": "stream",
     "text": [
      "5\n",
      "[0.9425252525252527, 0.9432828282828283, 0.9516161616161616, 0.9525252525252526, 0.9441919191919192]\n",
      "(1, 0.9425252525252527)\n",
      "(3, 0.9432828282828283)\n",
      "(5, 0.9516161616161616)\n",
      "(7, 0.9525252525252526)\n",
      "(9, 0.9441919191919192)\n"
     ]
    },
    {
     "data": {
      "image/png": "[encoded data removed]",
      "text/plain": [
       "<Figure size 432x288 with 1 Axes>"
      ]
     },
     "metadata": {
      "needs_background": "light"
     },
     "output_type": "display_data"
    },
    {
     "name": "stdout",
     "output_type": "stream",
     "text": [
      "0.98\n",
      "0.98\n"
     ]
    }
   ],
   "source": [
    "#cross validation using 10 folds,cv=10\n",
    "\n",
    "k_list= [1,3,5,7,9]\n",
    "cv_scores=[]\n",
    "\n",
    "for i in k_list:\n",
    "    cross_neigh = KNeighborsClassifier(n_neighbors=i)\n",
    "    scores = cross_val_score(cross_neigh,x_train, y_train,cv=10)\n",
    "    cv_scores.append(np.mean(scores))\n",
    "\n",
    "print(len(cv_scores))\n",
    "print(cv_scores)\n",
    "\n",
    "cv_score_zip=zip(k_list,cv_scores)\n",
    "\n",
    "for i in cv_score_zip:\n",
    "    print(i)\n",
    "\n",
    "\n",
    "#plot for K-value and accuracy using 10 fold cv.\n",
    "\n",
    "plt.figure('Iris_KNN')\n",
    "plt.xlabel('k-value')\n",
    "plt.ylabel('cv_score')\n",
    "plt.grid()\n",
    "plt.plot(k_list,cv_scores)\n",
    "plt.show()\n",
    "\n",
    "# based on above observations we are getting maximum accuracy when k=7,\n",
    "#So we will use K-value 7 and predict on test datsset and see accuracy.\n",
    "\n",
    "neigh_K7 = KNeighborsClassifier(n_neighbors=7)\n",
    "neigh_K7.fit(x_train, y_train)\n",
    "predict_array_k7 = neigh_K7.predict(x_test)\n",
    "print(metrics.accuracy_score(y_test, predict_array_k7))\n",
    "predict_probability = neigh_K7.predict_proba(x_test)\n",
    "\n",
    "#zipped_pobability = zip(predict_array_k7,predict_probability)\n",
    "#for i in zipped_pobability:\n",
    "#    print(i)\n",
    "\n",
    "cross_predict = cross_val_predict(cross_neigh,x_test,y_test,cv=10)\n",
    "print(metrics.accuracy_score(y_test, cross_predict))\n",
    "\n",
    "    \n",
    "    \n"
   ]
  },
  {
   "cell_type": "code",
   "execution_count": 45,
   "metadata": {},
   "outputs": [
    {
     "name": "stdout",
     "output_type": "stream",
     "text": [
      "[[19  0  0]\n",
      " [ 0 15  0]\n",
      " [ 0  1 15]]\n",
      "                 precision    recall  f1-score   support\n",
      "\n",
      "    Iris-setosa       1.00      1.00      1.00        19\n",
      "Iris-versicolor       0.94      1.00      0.97        15\n",
      " Iris-virginica       1.00      0.94      0.97        16\n",
      "\n",
      "      micro avg       0.98      0.98      0.98        50\n",
      "      macro avg       0.98      0.98      0.98        50\n",
      "   weighted avg       0.98      0.98      0.98        50\n",
      "\n"
     ]
    }
   ],
   "source": [
    "#confusion matrix and classification_report\n",
    "#precision = TP/TP+FP\n",
    "#Recall = TP/TP+FN\n",
    "\n",
    "print(metrics.confusion_matrix(y_test, cross_predict))\n",
    "print(metrics.classification_report(y_test, cross_predict))"
   ]
  },
  {
   "cell_type": "code",
   "execution_count": null,
   "metadata": {},
   "outputs": [],
   "source": []
  }
 ],
 "metadata": {
  "kernelspec": {
   "display_name": "Python 3",
   "language": "python",
   "name": "python3"
  },
  "language_info": {
   "codemirror_mode": {
    "name": "ipython",
    "version": 3
   },
   "file_extension": ".py",
   "mimetype": "text/x-python",
   "name": "python",
   "nbconvert_exporter": "python",
   "pygments_lexer": "ipython3",
   "version": "3.7.1"
  }
 },
 "nbformat": 4,
 "nbformat_minor": 2
}
