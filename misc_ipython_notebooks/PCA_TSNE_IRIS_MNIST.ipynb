{
 "cells": [
  {
   "cell_type": "code",
   "execution_count": 1,
   "metadata": {},
   "outputs": [],
   "source": [
    "import pandas as pd\n",
    "import numpy as np\n",
    "import sklearn\n",
    "import seaborn as sns\n",
    "import matplotlib.pyplot as plt\n",
    "from sklearn.preprocessing import StandardScaler\n"
   ]
  },
  {
   "cell_type": "code",
   "execution_count": 2,
   "metadata": {
    "scrolled": true
   },
   "outputs": [
    {
     "name": "stdout",
     "output_type": "stream",
     "text": [
      "<class 'pandas.core.indexes.base.Index'>\n",
      "Index(['sepal_length', 'sepal_width', 'petal_length', 'petal_width',\n",
      "       'species'],\n",
      "      dtype='object')\n"
     ]
    },
    {
     "data": {
      "text/html": [
       "<div>\n",
       "<style scoped>\n",
       "    .dataframe tbody tr th:only-of-type {\n",
       "        vertical-align: middle;\n",
       "    }\n",
       "\n",
       "    .dataframe tbody tr th {\n",
       "        vertical-align: top;\n",
       "    }\n",
       "\n",
       "    .dataframe thead th {\n",
       "        text-align: right;\n",
       "    }\n",
       "</style>\n",
       "<table border=\"1\" class=\"dataframe\">\n",
       "  <thead>\n",
       "    <tr style=\"text-align: right;\">\n",
       "      <th></th>\n",
       "      <th>sepal_length</th>\n",
       "      <th>sepal_width</th>\n",
       "      <th>petal_length</th>\n",
       "      <th>petal_width</th>\n",
       "    </tr>\n",
       "  </thead>\n",
       "  <tbody>\n",
       "    <tr>\n",
       "      <th>0</th>\n",
       "      <td>5.1</td>\n",
       "      <td>3.5</td>\n",
       "      <td>1.4</td>\n",
       "      <td>0.2</td>\n",
       "    </tr>\n",
       "    <tr>\n",
       "      <th>1</th>\n",
       "      <td>4.9</td>\n",
       "      <td>3.0</td>\n",
       "      <td>1.4</td>\n",
       "      <td>0.2</td>\n",
       "    </tr>\n",
       "  </tbody>\n",
       "</table>\n",
       "</div>"
      ],
      "text/plain": [
       "   sepal_length  sepal_width  petal_length  petal_width\n",
       "0           5.1          3.5           1.4          0.2\n",
       "1           4.9          3.0           1.4          0.2"
      ]
     },
     "execution_count": 2,
     "metadata": {},
     "output_type": "execute_result"
    }
   ],
   "source": [
    "iris = pd.read_csv('D:\\Learning\\Applied_AI\\iris_data.csv')\n",
    "iris.shape\n",
    "col_list = iris.columns\n",
    "print(type(col_list))\n",
    "print(col_list[:])\n",
    "iris['species'].value_counts()\n",
    "iris_data = iris.iloc[:,0:4] # select all the rows and col indices 0 to 3\n",
    "iris_lables = iris.iloc[:,4:] # select all trhe rows and 4th cloumn\n",
    "iris_data.shape\n",
    "iris_data.head(2)\n"
   ]
  },
  {
   "cell_type": "code",
   "execution_count": 3,
   "metadata": {},
   "outputs": [
    {
     "data": {
      "text/html": [
       "<div>\n",
       "<style scoped>\n",
       "    .dataframe tbody tr th:only-of-type {\n",
       "        vertical-align: middle;\n",
       "    }\n",
       "\n",
       "    .dataframe tbody tr th {\n",
       "        vertical-align: top;\n",
       "    }\n",
       "\n",
       "    .dataframe thead th {\n",
       "        text-align: right;\n",
       "    }\n",
       "</style>\n",
       "<table border=\"1\" class=\"dataframe\">\n",
       "  <thead>\n",
       "    <tr style=\"text-align: right;\">\n",
       "      <th></th>\n",
       "      <th>species</th>\n",
       "    </tr>\n",
       "  </thead>\n",
       "  <tbody>\n",
       "    <tr>\n",
       "      <th>0</th>\n",
       "      <td>Iris-setosa</td>\n",
       "    </tr>\n",
       "    <tr>\n",
       "      <th>1</th>\n",
       "      <td>Iris-setosa</td>\n",
       "    </tr>\n",
       "  </tbody>\n",
       "</table>\n",
       "</div>"
      ],
      "text/plain": [
       "       species\n",
       "0  Iris-setosa\n",
       "1  Iris-setosa"
      ]
     },
     "execution_count": 3,
     "metadata": {},
     "output_type": "execute_result"
    }
   ],
   "source": [
    "iris_lables.shape\n",
    "iris_lables.head(2)"
   ]
  },
  {
   "cell_type": "code",
   "execution_count": 4,
   "metadata": {},
   "outputs": [
    {
     "name": "stdout",
     "output_type": "stream",
     "text": [
      "sepal_length    5.843333\n",
      "sepal_width     3.054000\n",
      "petal_length    3.758667\n",
      "petal_width     1.198667\n",
      "dtype: float64\n",
      "sepal_length    0.828066\n",
      "sepal_width     0.433594\n",
      "petal_length    1.764420\n",
      "petal_width     0.763161\n",
      "dtype: float64\n",
      "sepal_length    5.843333\n",
      "sepal_width     3.054000\n",
      "petal_length    3.758667\n",
      "petal_width     1.198667\n",
      "dtype: float64\n"
     ]
    },
    {
     "data": {
      "text/html": [
       "<div>\n",
       "<style scoped>\n",
       "    .dataframe tbody tr th:only-of-type {\n",
       "        vertical-align: middle;\n",
       "    }\n",
       "\n",
       "    .dataframe tbody tr th {\n",
       "        vertical-align: top;\n",
       "    }\n",
       "\n",
       "    .dataframe thead th {\n",
       "        text-align: right;\n",
       "    }\n",
       "</style>\n",
       "<table border=\"1\" class=\"dataframe\">\n",
       "  <thead>\n",
       "    <tr style=\"text-align: right;\">\n",
       "      <th></th>\n",
       "      <th>sepal_length</th>\n",
       "      <th>sepal_width</th>\n",
       "      <th>petal_length</th>\n",
       "      <th>petal_width</th>\n",
       "    </tr>\n",
       "  </thead>\n",
       "  <tbody>\n",
       "    <tr>\n",
       "      <th>0</th>\n",
       "      <td>-0.897674</td>\n",
       "      <td>1.028611</td>\n",
       "      <td>-1.336794</td>\n",
       "      <td>-1.308593</td>\n",
       "    </tr>\n",
       "    <tr>\n",
       "      <th>1</th>\n",
       "      <td>-1.139200</td>\n",
       "      <td>-0.124540</td>\n",
       "      <td>-1.336794</td>\n",
       "      <td>-1.308593</td>\n",
       "    </tr>\n",
       "    <tr>\n",
       "      <th>2</th>\n",
       "      <td>-1.380727</td>\n",
       "      <td>0.336720</td>\n",
       "      <td>-1.393470</td>\n",
       "      <td>-1.308593</td>\n",
       "    </tr>\n",
       "  </tbody>\n",
       "</table>\n",
       "</div>"
      ],
      "text/plain": [
       "   sepal_length  sepal_width  petal_length  petal_width\n",
       "0     -0.897674     1.028611     -1.336794    -1.308593\n",
       "1     -1.139200    -0.124540     -1.336794    -1.308593\n",
       "2     -1.380727     0.336720     -1.393470    -1.308593"
      ]
     },
     "execution_count": 4,
     "metadata": {},
     "output_type": "execute_result"
    }
   ],
   "source": [
    "#standardizing using manually\n",
    "print(iris_data.mean())\n",
    "print(iris_data.std())\n",
    "print(np.mean(iris_data))\n",
    "iris_standard_manual = ((iris_data - iris_data.mean())/iris_data.std())\n",
    "iris_standard_manual.head(3)"
   ]
  },
  {
   "cell_type": "code",
   "execution_count": 6,
   "metadata": {},
   "outputs": [
    {
     "name": "stdout",
     "output_type": "stream",
     "text": [
      "length of iris_standard is  150\n",
      "length of inner list is 4\n",
      "sample elements are\n",
      "[[-0.90068117  1.03205722 -1.3412724  -1.31297673]\n",
      " [-1.14301691 -0.1249576  -1.3412724  -1.31297673]\n",
      " [-1.38535265  0.33784833 -1.39813811 -1.31297673]]\n"
     ]
    }
   ],
   "source": [
    "#standardizing using sklearn pre-processing\n",
    "iris_standard = StandardScaler().fit_transform(iris_data)  # this has transformed dataframe to numpy N-dimensional array,\n",
    "#each row in df is a list we will have n inner lists in a outer list,thats why length of iris_standard is 150 and \n",
    "#length of each inner list is 4.\n",
    "print('length of iris_standard is ',len(iris_standard))\n",
    "print('length of inner list is',len(iris_standard[0]))\n",
    "print('sample elements are')\n",
    "print((iris_standard[0:3]))"
   ]
  },
  {
   "cell_type": "code",
   "execution_count": 7,
   "metadata": {},
   "outputs": [
    {
     "name": "stdout",
     "output_type": "stream",
     "text": [
      "[-4.73695157e-16 -6.63173220e-16  3.31586610e-16 -2.84217094e-16]\n",
      "[1. 1. 1. 1.]\n"
     ]
    }
   ],
   "source": [
    "iris_standard.mean(axis=0) # axis = 0 is at column level,we could see even though we applie standard scalar\n",
    "#mean is not exactly zero.This is because of float values.if we had integers it would have become exact Zero.\n",
    "iris_standard_mean = np.mean(iris_standard,axis=0)\n",
    "iris_standard_stdev = np.std(iris_standard,axis=0)\n",
    "print(iris_standard_mean)\n",
    "print(iris_standard_stdev)"
   ]
  },
  {
   "cell_type": "code",
   "execution_count": 8,
   "metadata": {},
   "outputs": [
    {
     "name": "stdout",
     "output_type": "stream",
     "text": [
      "[[ 1.00671141 -0.11010327  0.87760486  0.82344326]\n",
      " [-0.11010327  1.00671141 -0.42333835 -0.358937  ]\n",
      " [ 0.87760486 -0.42333835  1.00671141  0.96921855]\n",
      " [ 0.82344326 -0.358937    0.96921855  1.00671141]]\n"
     ]
    }
   ],
   "source": [
    "# we will try to indetify covariance matrix for iris_standard using manual calculation\n",
    "# diagonal elements indicate variance of teh each field.means,1.00671141 is variance of sepal_length,\n",
    "#1.00671141 is variance of sepal-width..etc.\n",
    "# to cross check we can do sq_root of variance should become stddev it should be close.\n",
    "#second element of first row is the covvar between sepal_length and sepal_width....etc.\n",
    "cov_mat_manual = (iris_standard - iris_standard_mean).T.dot((iris_standard - iris_standard_mean)) / (iris_standard.shape[0]-1)\n",
    "print(cov_mat_manual)\n"
   ]
  },
  {
   "cell_type": "code",
   "execution_count": 9,
   "metadata": {},
   "outputs": [
    {
     "name": "stdout",
     "output_type": "stream",
     "text": [
      "[[ 1.00671141 -0.11010327  0.87760486  0.82344326]\n",
      " [-0.11010327  1.00671141 -0.42333835 -0.358937  ]\n",
      " [ 0.87760486 -0.42333835  1.00671141  0.96921855]\n",
      " [ 0.82344326 -0.358937    0.96921855  1.00671141]]\n"
     ]
    }
   ],
   "source": [
    "# we will try to indetify covariance matrix for iris_standard using inbuilt functions\n",
    "#we could observe that sepal_length and petal_length has maximum positive covariance(0.87760486)\n",
    "#followed by sepal_length and petal-width (0.82344326)\n",
    "cov_mat = np.cov(iris_standard.T)\n",
    "print(cov_mat)"
   ]
  },
  {
   "cell_type": "code",
   "execution_count": 10,
   "metadata": {},
   "outputs": [
    {
     "name": "stdout",
     "output_type": "stream",
     "text": [
      "[[ 0.52237162 -0.37231836 -0.72101681  0.26199559]\n",
      " [-0.26335492 -0.92555649  0.24203288 -0.12413481]\n",
      " [ 0.58125401 -0.02109478  0.14089226 -0.80115427]\n",
      " [ 0.56561105 -0.06541577  0.6338014   0.52354627]]\n",
      "[2.93035378 0.92740362 0.14834223 0.02074601]\n"
     ]
    }
   ],
   "source": [
    "#once we got covariance matrix,we need to identify eigen values and eigen vector for this.\n",
    "# eigen_values tell us the axis with maximum variability\n",
    "#eigen vector is the vector in the direction with maximum variability.\n",
    "#here we have 2.93035378 and 0.92740362 as maximum eigen values. in case we want to choose 90% variability,\n",
    "#if we do (2.93035378+0.92740362)/(2.93035378+ 0.92740362+ 0.14834223+ 0.02074601) = 0.958009754 so, is accumulating to 95% variability.\n",
    "#so, we can safely assume if we just take first two principle components we can retain 95% variability.\n",
    "#in eig_vecs, first element fo every inner list corresponds to first eigen value in eig_vals,\n",
    "#means 0.52237162,-0.26335492,0.58125401,0.56561105 correspond to eig_val of 2.93035378.\n",
    "eig_vals, eig_vecs = np.linalg.eig(cov_mat)\n",
    "print(eig_vecs)\n",
    "print(eig_vals)\n"
   ]
  },
  {
   "cell_type": "code",
   "execution_count": 11,
   "metadata": {},
   "outputs": [
    {
     "name": "stdout",
     "output_type": "stream",
     "text": [
      "[(2.9303537755893165, array([ 0.52237162, -0.26335492,  0.58125401,  0.56561105])), (0.9274036215173417, array([-0.37231836, -0.92555649, -0.02109478, -0.06541577])), (0.1483422264816399, array([-0.72101681,  0.24203288,  0.14089226,  0.6338014 ])), (0.02074601399559571, array([ 0.26199559, -0.12413481, -0.80115427,  0.52354627]))]\n"
     ]
    }
   ],
   "source": [
    "#construct eigen pairs\n",
    "eig_pairs = [(np.abs(eig_vals[i]), eig_vecs[:,i]) for i in range(len(eig_vals))]\n",
    "print(eig_pairs)"
   ]
  },
  {
   "cell_type": "code",
   "execution_count": 44,
   "metadata": {},
   "outputs": [
    {
     "name": "stdout",
     "output_type": "stream",
     "text": [
      "4.026845637583894\n",
      "[0.7277045209380134, 0.23030523267680644, 0.03683831957627389, 0.005151926808906267]\n"
     ]
    },
    {
     "data": {
      "image/png": "[encoded data removed]",
      "text/plain": [
       "<Figure size 432x288 with 1 Axes>"
      ]
     },
     "metadata": {
      "needs_background": "light"
     },
     "output_type": "display_data"
    }
   ],
   "source": [
    "#we can plot a graph to explain variability of eigen values.\n",
    "# if we observe the graph, at 0.0 on x,y is about 0.72,means just one variable itself is  explaining about 72% variabiliy,\n",
    "#if we combine first two elements we can get about >95% variability.\n",
    "total_eigenvals = sum(eig_vals)\n",
    "print(total_eigenvals)\n",
    "\n",
    "variability_pctg = [(i / total_eigenvals) for i in sorted(eig_vals, reverse=True)]\n",
    "print(variability_pctg)\n",
    "cum_var_exp = np.cumsum(variability_pctg)\n",
    "plt.plot(cum_var_exp,linewidth=2);\n",
    "plt.xlabel('eigen_value')\n",
    "plt.ylabel('variability_pctg')\n",
    "plt.grid()\n",
    "plt.show()"
   ]
  },
  {
   "cell_type": "code",
   "execution_count": 40,
   "metadata": {},
   "outputs": [
    {
     "name": "stdout",
     "output_type": "stream",
     "text": [
      "[[ 0.52237162 -0.37231836]\n",
      " [-0.26335492 -0.92555649]\n",
      " [ 0.58125401 -0.02109478]\n",
      " [ 0.56561105 -0.06541577]]\n"
     ]
    }
   ],
   "source": [
    "#once we have final eigen_pairs, we need to construct 4 X 2 matrix,which will have eigen vectors for first two principle components.\n",
    "#then we need to multiply our original matrix with this matrix.\n",
    "#reshape converts the array to 4 X 1.So, we will have two 4 X 1 vectors.hstack stacks them horizontally.means side by side.\n",
    "#So, finally we will get 4 X 2 matrix. This is called projection matrix\n",
    "projection_matrix = np.hstack((eig_pairs[0][1].reshape(4,1),\n",
    "                      eig_pairs[1][1].reshape(4,1)))\n",
    "print(projection_matrix)"
   ]
  },
  {
   "cell_type": "code",
   "execution_count": 41,
   "metadata": {},
   "outputs": [
    {
     "data": {
      "text/plain": [
       "array([[-2.26454173, -0.5057039 ],\n",
       "       [-2.0864255 ,  0.65540473],\n",
       "       [-2.36795045,  0.31847731],\n",
       "       [-2.30419716,  0.57536771],\n",
       "       [-2.38877749, -0.6747674 ],\n",
       "       [-2.07053681, -1.51854856]])"
      ]
     },
     "execution_count": 41,
     "metadata": {},
     "output_type": "execute_result"
    }
   ],
   "source": [
    "#once we have projection matrix, we need to dot product of our original standardized matrix with projection matrix to get principle\n",
    "# components.Here we get two principle components.\n",
    "principle_matrix = iris_standard.dot(projection_matrix)\n",
    "principle_matrix[0:6]\n",
    "#principle_matrix.shape"
   ]
  },
  {
   "cell_type": "code",
   "execution_count": 42,
   "metadata": {},
   "outputs": [
    {
     "name": "stdout",
     "output_type": "stream",
     "text": [
      "[[ 1.00671141e+00 -8.86514100e-17]\n",
      " [-8.86514100e-17  1.00671141e+00]]\n"
     ]
    }
   ],
   "source": [
    "#Now, if we standardize and find cov between these two principle components, we should see very less covariance.\n",
    "#But,Still we got 8.86 as negative covariance.So, even with one principle component we could predict.\n",
    "principle_std = StandardScaler().fit_transform(principle_matrix)\n",
    "principle_cov_mat = np.cov(principle_std.T)\n",
    "print(principle_cov_mat)"
   ]
  },
  {
   "cell_type": "code",
   "execution_count": 43,
   "metadata": {},
   "outputs": [
    {
     "name": "stdout",
     "output_type": "stream",
     "text": [
      "       species\n",
      "0  Iris-setosa\n",
      "1  Iris-setosa\n"
     ]
    },
    {
     "data": {
      "image/png": "[encoded data removed]",
      "text/plain": [
       "<Figure size 432x288 with 1 Axes>"
      ]
     },
     "metadata": {},
     "output_type": "display_data"
    }
   ],
   "source": [
    "#principle_matrix[iris_lables['species']==lab, 0] - iris_lables['species']==lab gives index from iris_lables where species = lab is true \n",
    "#if ir returns index = 1,then we are taking first values from two dimensional array principle_matrix[1,0] as x value \n",
    "#and principle_matrix[1,1] as y value for plotting.\n",
    "\n",
    "print(iris_lables.head(2))\n",
    "with plt.style.context('seaborn-whitegrid'):\n",
    "    plt.figure(figsize=(6, 4))\n",
    "    for lab, col in zip(('Iris-setosa', 'Iris-versicolor', 'Iris-virginica'),\n",
    "                        ('blue', 'red', 'green')):\n",
    "        plt.scatter(principle_matrix[iris_lables['species']==lab, 0],\n",
    "                    principle_matrix[iris_lables['species']==lab, 1],\n",
    "                    label=lab,\n",
    "                    c=col)\n",
    "    plt.xlabel('Principal Component 1')\n",
    "    plt.ylabel('Principal Component 2')\n",
    "    plt.legend(loc='lower center')\n",
    "    plt.tight_layout()\n",
    "    plt.show()"
   ]
  },
  {
   "cell_type": "code",
   "execution_count": 29,
   "metadata": {},
   "outputs": [],
   "source": [
    "#instead of lengthy procedure we can do PCA using default methods available in sklearn.\n",
    "#n_components=2 signifies we need two principle components\n",
    "\n",
    "from sklearn.decomposition import PCA as sklearnPCA\n",
    "sklearn_pca = sklearnPCA(n_components=2)\n",
    "principle_matrix_sklearn = sklearn_pca.fit_transform(iris_standard)"
   ]
  },
  {
   "cell_type": "code",
   "execution_count": 58,
   "metadata": {},
   "outputs": [
    {
     "data": {
      "image/png": "[encoded data removed]",
      "text/plain": [
       "<Figure size 432x288 with 1 Axes>"
      ]
     },
     "metadata": {},
     "output_type": "display_data"
    }
   ],
   "source": [
    "with plt.style.context('seaborn-whitegrid'):\n",
    "    plt.figure(figsize=(6, 4))\n",
    "    for lab, col in zip(('Iris-setosa', 'Iris-versicolor', 'Iris-virginica'),\n",
    "                        ('blue', 'red', 'green')):\n",
    "        plt.scatter(principle_matrix_sklearn[iris_lables['species']==lab,0],\n",
    "                    principle_matrix_sklearn[iris_lables['species']==lab,1],\n",
    "                    label=lab,\n",
    "                    c=col)\n",
    "    plt.xlabel('Principal Component 1')\n",
    "    plt.ylabel('Principal Component 2')\n",
    "    plt.legend(loc='lower center')\n",
    "    plt.tight_layout()\n",
    "    plt.show()\n",
    "#plot size did not match with earlier plot, where we selected principle componets,need to analyze this."
   ]
  },
  {
   "cell_type": "markdown",
   "metadata": {},
   "source": [
    "# T-SNE"
   ]
  },
  {
   "cell_type": "code",
   "execution_count": 50,
   "metadata": {},
   "outputs": [
    {
     "name": "stdout",
     "output_type": "stream",
     "text": [
      "[[-12.572178 -25.27428 ]\n",
      " [-11.181869 -21.646711]]\n",
      "length of tsne_data is  150\n",
      "length of tsne_data is  2\n"
     ]
    },
    {
     "data": {
      "image/png": "[encoded data removed]",
      "text/plain": [
       "<Figure size 432x288 with 1 Axes>"
      ]
     },
     "metadata": {},
     "output_type": "display_data"
    }
   ],
   "source": [
    "#using T-SNE on IRIS Dataset.\n",
    "\n",
    "from sklearn.manifold import TSNE\n",
    "model = TSNE(n_components=2, random_state=0)\n",
    "# configuring the parameteres\n",
    "# the number of components = 2\n",
    "# default perplexity = 30\n",
    "# default learning rate = 200\n",
    "# default Maximum number of iterations for the optimization = 1000\n",
    "tsne_data = model.fit_transform(iris_standard)\n",
    "print(tsne_data[0:2]) #each list ia row with two column data\n",
    "print('length of tsne_data is ',len(tsne_data))\n",
    "tsne_data_t = tsne_data.T\n",
    "print('length of tsne_data is ',len(tsne_data_t))\n",
    "\n",
    "with plt.style.context('seaborn-whitegrid'):\n",
    "    plt.figure(figsize=(6, 4))\n",
    "    for lab, col in zip(('Iris-setosa', 'Iris-versicolor', 'Iris-virginica'),\n",
    "                        ('blue', 'red', 'green')):\n",
    "        plt.scatter(tsne_data[iris_lables['species']==lab, 0],\n",
    "                    tsne_data[iris_lables['species']==lab, 1],\n",
    "                    label=lab,\n",
    "                    c=col)\n",
    "    plt.xlabel('Principal Component 1')\n",
    "    plt.ylabel('Principal Component 2')\n",
    "    plt.legend(loc='lower center')\n",
    "    plt.tight_layout()\n",
    "    plt.show()\n"
   ]
  },
  {
   "cell_type": "code",
   "execution_count": 60,
   "metadata": {},
   "outputs": [
    {
     "name": "stdout",
     "output_type": "stream",
     "text": [
      "[-25.27428  -21.646711 -22.541714 -21.75289  -25.653273 -27.487585\n",
      " -23.435606 -24.323322 -20.748482 -22.391487 -26.767233 -23.861341\n",
      " -21.496227 -20.974277 -28.122488 -28.605774 -27.513695 -25.25895\n",
      " -27.499432 -26.78135  -25.35897  -26.240103 -24.75881  -24.153252\n",
      " -23.839397 -21.912006 -24.411772 -25.543427 -24.854952 -22.591936\n",
      " -22.111279 -25.350077 -27.885643 -28.283667 -22.390978 -23.125193\n",
      " -26.08351  -22.391172 -21.108383 -24.593473 -24.966076 -19.723852\n",
      " -21.846294 -25.017555 -26.82189  -21.448982 -26.799507 -22.281534\n",
      " -26.596804 -23.694792]\n"
     ]
    }
   ],
   "source": [
    "xy = tsne_data[iris_lables['species']=='Iris-setosa',1]\n",
    "print(xy)"
   ]
  },
  {
   "cell_type": "code",
   "execution_count": null,
   "metadata": {},
   "outputs": [],
   "source": []
  }
 ],
 "metadata": {
  "kernelspec": {
   "display_name": "Python 3",
   "language": "python",
   "name": "python3"
  },
  "language_info": {
   "codemirror_mode": {
    "name": "ipython",
    "version": 3
   },
   "file_extension": ".py",
   "mimetype": "text/x-python",
   "name": "python",
   "nbconvert_exporter": "python",
   "pygments_lexer": "ipython3",
   "version": "3.7.1"
  }
 },
 "nbformat": 4,
 "nbformat_minor": 2
}
